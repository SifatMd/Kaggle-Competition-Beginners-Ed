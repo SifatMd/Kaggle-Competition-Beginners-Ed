{
 "cells": [
  {
   "cell_type": "markdown",
   "metadata": {},
   "source": [
    "## Download Data from Kaggle using kaggle API"
   ]
  },
  {
   "cell_type": "code",
   "execution_count": 1,
   "metadata": {},
   "outputs": [
    {
     "name": "stdout",
     "output_type": "stream",
     "text": [
      "Collecting kaggle\n",
      "  Downloading kaggle-1.5.6.tar.gz (58 kB)\n",
      "\u001b[K     |████████████████████████████████| 58 kB 268 kB/s eta 0:00:011\n",
      "\u001b[?25hCollecting urllib3<1.25,>=1.21.1\n",
      "  Downloading urllib3-1.24.3-py2.py3-none-any.whl (118 kB)\n",
      "\u001b[K     |████████████████████████████████| 118 kB 383 kB/s eta 0:00:01\n",
      "\u001b[?25hRequirement already satisfied: six>=1.10 in /media/sifat/Windows-10/Ddrive/Python - Datasets/Jupyter Files/jnotebook/lib/python3.7/site-packages (from kaggle) (1.14.0)\n",
      "Collecting certifi\n",
      "  Using cached certifi-2020.4.5.1-py2.py3-none-any.whl (157 kB)\n",
      "Requirement already satisfied: python-dateutil in /media/sifat/Windows-10/Ddrive/Python - Datasets/Jupyter Files/jnotebook/lib/python3.7/site-packages (from kaggle) (2.8.1)\n",
      "Collecting requests\n",
      "  Using cached requests-2.23.0-py2.py3-none-any.whl (58 kB)\n",
      "Collecting tqdm\n",
      "  Downloading tqdm-4.46.0-py2.py3-none-any.whl (63 kB)\n",
      "\u001b[K     |████████████████████████████████| 63 kB 571 kB/s eta 0:00:011\n",
      "\u001b[?25hCollecting python-slugify\n",
      "  Downloading python-slugify-4.0.0.tar.gz (8.8 kB)\n",
      "Collecting idna<3,>=2.5\n",
      "  Using cached idna-2.9-py2.py3-none-any.whl (58 kB)\n",
      "Collecting chardet<4,>=3.0.2\n",
      "  Using cached chardet-3.0.4-py2.py3-none-any.whl (133 kB)\n",
      "Collecting text-unidecode>=1.3\n",
      "  Downloading text_unidecode-1.3-py2.py3-none-any.whl (78 kB)\n",
      "\u001b[K     |████████████████████████████████| 78 kB 417 kB/s eta 0:00:01\n",
      "\u001b[?25hBuilding wheels for collected packages: kaggle, python-slugify\n",
      "  Building wheel for kaggle (setup.py) ... \u001b[?25ldone\n",
      "\u001b[?25h  Created wheel for kaggle: filename=kaggle-1.5.6-py3-none-any.whl size=72859 sha256=40c8e98d895ffb219bd5faf0ac9bfd30670098837b0964ecc02165bca9203ffb\n",
      "  Stored in directory: /home/sifat/.cache/pip/wheels/aa/e7/e7/eb3c3d514c33294d77ddd5a856bdd58dc9c1fabbed59a02a2b\n",
      "  Building wheel for python-slugify (setup.py) ... \u001b[?25ldone\n",
      "\u001b[?25h  Created wheel for python-slugify: filename=python_slugify-4.0.0-py2.py3-none-any.whl size=5486 sha256=bcde76b7cafecd3a478bfc61f42a190c114882dd812a05ccbe7159583fdf34e3\n",
      "  Stored in directory: /home/sifat/.cache/pip/wheels/7c/26/30/5f3d95da00fe94d0c4a5ec5b4ffd2e1ae18545f5fa61752e52\n",
      "Successfully built kaggle python-slugify\n",
      "Installing collected packages: urllib3, certifi, idna, chardet, requests, tqdm, text-unidecode, python-slugify, kaggle\n",
      "Successfully installed certifi-2020.4.5.1 chardet-3.0.4 idna-2.9 kaggle-1.5.6 python-slugify-4.0.0 requests-2.23.0 text-unidecode-1.3 tqdm-4.46.0 urllib3-1.24.3\n"
     ]
    }
   ],
   "source": [
    "!pip install kaggle"
   ]
  },
  {
   "cell_type": "markdown",
   "metadata": {},
   "source": [
    "**Just copy the kaggle api key here and run cell**"
   ]
  },
  {
   "cell_type": "code",
   "execution_count": 3,
   "metadata": {},
   "outputs": [
    {
     "name": "stdout",
     "output_type": "stream",
     "text": [
      "Warning: Your Kaggle API key is readable by other users on this system! To fix this, you can run 'chmod 600 /home/sifat/.kaggle/kaggle.json'\n",
      "2020-05-14 03:46:03,562 WARNING Retrying (Retry(total=1, connect=None, read=None, redirect=None, status=None)) after connection broken by 'ProtocolError('Connection aborted.', OSError(0, 'Error'))': /kaggle-competitions-data/kaggle-v2/5407/868283/bundle/archive.zip?GoogleAccessId=web-data@kaggle-161607.iam.gserviceaccount.com&Expires=1589665553&Signature=dciWo2wJIjzVC8ak6TAmqkJF0SMg%2Bfe1DotifVkNRsLDS1iFFdTJPke61zI0zUyLQb76q4buIhXd8MPfLipbYaA5Qg%2FjNRKGYWVhARsBU2eRTK4mIIbobWzGjiUcL9skHZh5UU9HLq4QZ4kwG%2BCUH2f7200hcGVKqhWQDO7kNAR8z5qEyfJfTLQvZaY%2FF1SeXRS7jw9nkHZpkxdAL1PHovaCgDtA8Wm06zlqJHEty2eykzL1QDG0EnbVMwZj%2FaVPMdlsjMATf%2FqHbmSEhxEGpYXxQTlp%2FcPV1Pzu%2B2t8mjQ9rNmNpypQNgGUHZ9eJBa%2BfiC5VK210K0%2BLCVk2WB3NA%3D%3D&response-content-disposition=attachment%3B+filename%3Dhouse-prices-advanced-regression-techniques.zip\n",
      "Downloading house-prices-advanced-regression-techniques.zip to /media/sifat/Windows-10/Ddrive/Python - Datasets/Jupyter Files/Kaggle/Beginner Problems/House Prices: Advanced Regression Techniques\n",
      "100%|█████████████████████████████████████████| 199k/199k [00:00<00:00, 640kB/s]\n",
      "100%|█████████████████████████████████████████| 199k/199k [00:00<00:00, 639kB/s]\n"
     ]
    }
   ],
   "source": [
    "!kaggle competitions download -c house-prices-advanced-regression-techniques"
   ]
  },
  {
   "cell_type": "code",
   "execution_count": 4,
   "metadata": {},
   "outputs": [
    {
     "name": "stdout",
     "output_type": "stream",
     "text": [
      "Archive:  house-prices-advanced-regression-techniques.zip\r\n",
      "  inflating: data_description.txt    \r\n",
      "  inflating: sample_submission.csv   \r\n",
      "  inflating: test.csv                \r\n",
      "  inflating: train.csv               \r\n"
     ]
    }
   ],
   "source": [
    "!unzip 'house-prices-advanced-regression-techniques.zip'"
   ]
  },
  {
   "cell_type": "code",
   "execution_count": null,
   "metadata": {},
   "outputs": [],
   "source": []
  }
 ],
 "metadata": {
  "kernelspec": {
   "display_name": "Python 3",
   "language": "python",
   "name": "python3"
  },
  "language_info": {
   "codemirror_mode": {
    "name": "ipython",
    "version": 3
   },
   "file_extension": ".py",
   "mimetype": "text/x-python",
   "name": "python",
   "nbconvert_exporter": "python",
   "pygments_lexer": "ipython3",
   "version": "3.7.7"
  }
 },
 "nbformat": 4,
 "nbformat_minor": 4
}
